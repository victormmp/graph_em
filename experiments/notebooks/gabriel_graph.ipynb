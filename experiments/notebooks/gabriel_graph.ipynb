{
 "cells": [
  {
   "cell_type": "markdown",
   "metadata": {
    "collapsed": true
   },
   "source": [
    "# Gabriel Graph"
   ]
  },
  {
   "cell_type": "code",
   "execution_count": 1,
   "metadata": {},
   "outputs": [],
   "source": [
    "import numpy as np\n",
    "from typing import List"
   ]
  },
  {
   "cell_type": "code",
   "execution_count": 2,
   "metadata": {},
   "outputs": [],
   "source": [
    "expected_connections: np.ndarray = np.zeros((9, 9))\n",
    "connected_points: List[List] = [\n",
    "    [1, 0],\n",
    "    [2, 1],\n",
    "    [4, 3],\n",
    "    [5, 4],\n",
    "    [7, 6],\n",
    "    [8, 7],\n",
    "    [3, 0],\n",
    "    [6, 3],\n",
    "    [4, 1],\n",
    "    [7, 4],\n",
    "    [5, 2],\n",
    "    [8, 5],\n",
    "    [4, 0],\n",
    "    [8, 4],\n",
    "    [4, 2],\n",
    "    [6, 4]\n",
    "]\n",
    "\n",
    "for point_a, point_b in connected_points:\n",
    "    expected_connections[point_a, point_b] = 1"
   ]
  },
  {
   "cell_type": "code",
   "execution_count": 3,
   "metadata": {},
   "outputs": [
    {
     "data": {
      "text/plain": "array([[0., 0., 0., 0., 0., 0., 0., 0., 0.],\n       [1., 0., 0., 0., 0., 0., 0., 0., 0.],\n       [0., 1., 0., 0., 0., 0., 0., 0., 0.],\n       [1., 0., 0., 0., 0., 0., 0., 0., 0.],\n       [1., 1., 1., 1., 0., 0., 0., 0., 0.],\n       [0., 0., 1., 0., 1., 0., 0., 0., 0.],\n       [0., 0., 0., 1., 1., 0., 0., 0., 0.],\n       [0., 0., 0., 0., 1., 0., 1., 0., 0.],\n       [0., 0., 0., 0., 1., 1., 0., 1., 0.]])"
     },
     "execution_count": 3,
     "metadata": {},
     "output_type": "execute_result"
    }
   ],
   "source": [
    "expected_connections"
   ]
  },
  {
   "cell_type": "code",
   "execution_count": 5,
   "metadata": {},
   "outputs": [],
   "source": [
    "a = np.where(expected_connections == 1)"
   ]
  },
  {
   "cell_type": "code",
   "execution_count": 7,
   "outputs": [
    {
     "data": {
      "text/plain": "(array([1, 2, 3, 4, 4, 4, 4, 5, 5, 6, 6, 7, 7, 8, 8, 8], dtype=int64),\n array([0, 1, 0, 0, 1, 2, 3, 2, 4, 3, 4, 4, 6, 4, 5, 7], dtype=int64))"
     },
     "execution_count": 7,
     "metadata": {},
     "output_type": "execute_result"
    }
   ],
   "source": [
    "a"
   ],
   "metadata": {
    "collapsed": false,
    "pycharm": {
     "name": "#%%\n"
    }
   }
  },
  {
   "cell_type": "code",
   "execution_count": 8,
   "outputs": [
    {
     "data": {
      "text/plain": "[(1, 0),\n (2, 1),\n (3, 0),\n (4, 0),\n (4, 1),\n (4, 2),\n (4, 3),\n (5, 2),\n (5, 4),\n (6, 3),\n (6, 4),\n (7, 4),\n (7, 6),\n (8, 4),\n (8, 5),\n (8, 7)]"
     },
     "execution_count": 8,
     "metadata": {},
     "output_type": "execute_result"
    }
   ],
   "source": [
    "list(zip(*a))\n",
    "\n"
   ],
   "metadata": {
    "collapsed": false,
    "pycharm": {
     "name": "#%%\n"
    }
   }
  },
  {
   "cell_type": "code",
   "execution_count": null,
   "outputs": [],
   "source": [
    "\n"
   ],
   "metadata": {
    "collapsed": false,
    "pycharm": {
     "name": "#%%\n"
    }
   }
  }
 ],
 "metadata": {
  "kernelspec": {
   "display_name": "Python 3",
   "language": "python",
   "name": "python3"
  },
  "language_info": {
   "codemirror_mode": {
    "name": "ipython",
    "version": 3
   },
   "file_extension": ".py",
   "mimetype": "text/x-python",
   "name": "python",
   "nbconvert_exporter": "python",
   "pygments_lexer": "ipython3",
   "version": "3.7.5"
  }
 },
 "nbformat": 4,
 "nbformat_minor": 1
}